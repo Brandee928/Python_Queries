{
 "cells": [
  {
   "cell_type": "code",
   "execution_count": 1,
   "id": "ec6ab0c2",
   "metadata": {},
   "outputs": [],
   "source": [
    "#Pandas & Visual Library\n",
    "import pandas as pd\n",
    "import numpy as np\n",
    "import os\n",
    "import matplotlib.pyplot as plt\n",
    "import seaborn as sns\n",
    "import scipy"
   ]
  },
  {
   "cell_type": "code",
   "execution_count": 2,
   "id": "c2c7e1ab",
   "metadata": {},
   "outputs": [],
   "source": [
    "path = r'/Users/brandeefairnot/Library/CloudStorage/OneDrive-Personal/Documents/Instacart Basket Analysis/'"
   ]
  },
  {
   "cell_type": "markdown",
   "id": "806f20b6",
   "metadata": {},
   "source": [
    "1) Import the data set you exported in Exercise 4.9 into a new Jupyter notebook. This should be the merged version of your data that contains the new customers column."
   ]
  },
  {
   "cell_type": "code",
   "execution_count": 3,
   "id": "06a61299",
   "metadata": {},
   "outputs": [],
   "source": [
    "#import file\n",
    "df_fin = pd.read_pickle(os.path.join(path, '02 Data','Prepared Data', 'orders_products_customers.pkl'))"
   ]
  },
  {
   "cell_type": "code",
   "execution_count": 4,
   "id": "b27fe9b7",
   "metadata": {},
   "outputs": [],
   "source": [
    "#see all columns\n",
    "pd.set_option('display.max_columns', None)"
   ]
  },
  {
   "cell_type": "markdown",
   "id": "781a6923",
   "metadata": {},
   "source": [
    "2) Consider any security implications that might exist for this new data. You’ll need to address any PII data in the data before continuing your analysis."
   ]
  },
  {
   "cell_type": "code",
   "execution_count": 5,
   "id": "8f26c9e5",
   "metadata": {},
   "outputs": [],
   "source": [
    "df_fin2 = df_fin.drop(columns = ['First Name', 'Last Name', 'price_range_loc'])"
   ]
  },
  {
   "cell_type": "markdown",
   "id": "7bcbbddd",
   "metadata": {},
   "source": [
    "3) Create a regional segmentation of the data. You’ll need to create a “Region” column based on the “State” column from your customers data set."
   ]
  },
  {
   "cell_type": "code",
   "execution_count": 6,
   "id": "87df200c",
   "metadata": {},
   "outputs": [],
   "source": [
    "#define region\n",
    "region = []\n",
    "for State in df_fin2['State']:\n",
    "    if State in ['New Jersey','Pennsylvania', 'New York', 'Maine', 'New Hampshire', 'Vermont', 'Massachusetts', 'Rhode Island', 'Connecticut']:\n",
    "        region.append('Northeast')\n",
    "    elif State in ['Wisconsin', 'Michigan', 'Illinois', 'Indiana', 'Ohio', 'North Dakota', 'South Dakota', 'Nebraska', 'Kansas', 'Minnesota', 'Iowa', 'Missouri']:\n",
    "        region.append('Midwest')\n",
    "    elif State in ['Delaware', 'Maryland', 'District of Columbia', 'Virginia', 'West Virginia', 'North Carolina', 'South Carolina', 'Georgia', 'Florida', 'Kentucky', 'Tennessee', 'Mississippi', 'Alabama', 'Oklahoma', 'Texas', 'Arkansas', 'Louisiana']:\n",
    "        region.append('South')\n",
    "    else:\n",
    "        region.append('West')"
   ]
  },
  {
   "cell_type": "code",
   "execution_count": 7,
   "id": "e5ad6773",
   "metadata": {},
   "outputs": [],
   "source": [
    "#new column \n",
    "df_fin2['Region'] = region"
   ]
  },
  {
   "cell_type": "code",
   "execution_count": 8,
   "id": "66daad32",
   "metadata": {
    "scrolled": true
   },
   "outputs": [
    {
     "data": {
      "text/html": [
       "<div>\n",
       "<style scoped>\n",
       "    .dataframe tbody tr th:only-of-type {\n",
       "        vertical-align: middle;\n",
       "    }\n",
       "\n",
       "    .dataframe tbody tr th {\n",
       "        vertical-align: top;\n",
       "    }\n",
       "\n",
       "    .dataframe thead th {\n",
       "        text-align: right;\n",
       "    }\n",
       "</style>\n",
       "<table border=\"1\" class=\"dataframe\">\n",
       "  <thead>\n",
       "    <tr style=\"text-align: right;\">\n",
       "      <th></th>\n",
       "      <th>order_id</th>\n",
       "      <th>user_id</th>\n",
       "      <th>eval_set</th>\n",
       "      <th>order_number</th>\n",
       "      <th>orders_day_of_week</th>\n",
       "      <th>order_hour_of_day</th>\n",
       "      <th>days_since_prior_order</th>\n",
       "      <th>product_id</th>\n",
       "      <th>add_to_cart_order</th>\n",
       "      <th>reordered</th>\n",
       "      <th>_merge</th>\n",
       "      <th>product_name</th>\n",
       "      <th>aisle_id</th>\n",
       "      <th>department_id</th>\n",
       "      <th>prices</th>\n",
       "      <th>price_range</th>\n",
       "      <th>busiest_days</th>\n",
       "      <th>busiest_period_of_day</th>\n",
       "      <th>max_order</th>\n",
       "      <th>loyalty_flag</th>\n",
       "      <th>Type_of_Spender</th>\n",
       "      <th>Mean_Spending</th>\n",
       "      <th>order_freq_flag</th>\n",
       "      <th>Customer_Frequency</th>\n",
       "      <th>State</th>\n",
       "      <th>Age</th>\n",
       "      <th>Dependents</th>\n",
       "      <th>Family_Status</th>\n",
       "      <th>Income</th>\n",
       "      <th>Region</th>\n",
       "    </tr>\n",
       "  </thead>\n",
       "  <tbody>\n",
       "    <tr>\n",
       "      <th>0</th>\n",
       "      <td>2539329</td>\n",
       "      <td>1</td>\n",
       "      <td>prior</td>\n",
       "      <td>1</td>\n",
       "      <td>2</td>\n",
       "      <td>8</td>\n",
       "      <td>NaN</td>\n",
       "      <td>196</td>\n",
       "      <td>1</td>\n",
       "      <td>0</td>\n",
       "      <td>both</td>\n",
       "      <td>Soda</td>\n",
       "      <td>77</td>\n",
       "      <td>7</td>\n",
       "      <td>9.0</td>\n",
       "      <td>Mid-range product</td>\n",
       "      <td>Regularly busy</td>\n",
       "      <td>Average orders</td>\n",
       "      <td>10</td>\n",
       "      <td>New customer</td>\n",
       "      <td>Low Spender</td>\n",
       "      <td>6.367797</td>\n",
       "      <td>20.5</td>\n",
       "      <td>Regular customer</td>\n",
       "      <td>Alabama</td>\n",
       "      <td>31</td>\n",
       "      <td>3</td>\n",
       "      <td>married</td>\n",
       "      <td>40423</td>\n",
       "      <td>South</td>\n",
       "    </tr>\n",
       "    <tr>\n",
       "      <th>1</th>\n",
       "      <td>2398795</td>\n",
       "      <td>1</td>\n",
       "      <td>prior</td>\n",
       "      <td>2</td>\n",
       "      <td>3</td>\n",
       "      <td>7</td>\n",
       "      <td>15.0</td>\n",
       "      <td>196</td>\n",
       "      <td>1</td>\n",
       "      <td>1</td>\n",
       "      <td>both</td>\n",
       "      <td>Soda</td>\n",
       "      <td>77</td>\n",
       "      <td>7</td>\n",
       "      <td>9.0</td>\n",
       "      <td>Mid-range product</td>\n",
       "      <td>Regularly busy</td>\n",
       "      <td>Average orders</td>\n",
       "      <td>10</td>\n",
       "      <td>New customer</td>\n",
       "      <td>Low Spender</td>\n",
       "      <td>6.367797</td>\n",
       "      <td>20.5</td>\n",
       "      <td>Regular customer</td>\n",
       "      <td>Alabama</td>\n",
       "      <td>31</td>\n",
       "      <td>3</td>\n",
       "      <td>married</td>\n",
       "      <td>40423</td>\n",
       "      <td>South</td>\n",
       "    </tr>\n",
       "    <tr>\n",
       "      <th>2</th>\n",
       "      <td>473747</td>\n",
       "      <td>1</td>\n",
       "      <td>prior</td>\n",
       "      <td>3</td>\n",
       "      <td>3</td>\n",
       "      <td>12</td>\n",
       "      <td>21.0</td>\n",
       "      <td>196</td>\n",
       "      <td>1</td>\n",
       "      <td>1</td>\n",
       "      <td>both</td>\n",
       "      <td>Soda</td>\n",
       "      <td>77</td>\n",
       "      <td>7</td>\n",
       "      <td>9.0</td>\n",
       "      <td>Mid-range product</td>\n",
       "      <td>Regularly busy</td>\n",
       "      <td>Most orders</td>\n",
       "      <td>10</td>\n",
       "      <td>New customer</td>\n",
       "      <td>Low Spender</td>\n",
       "      <td>6.367797</td>\n",
       "      <td>20.5</td>\n",
       "      <td>Regular customer</td>\n",
       "      <td>Alabama</td>\n",
       "      <td>31</td>\n",
       "      <td>3</td>\n",
       "      <td>married</td>\n",
       "      <td>40423</td>\n",
       "      <td>South</td>\n",
       "    </tr>\n",
       "    <tr>\n",
       "      <th>3</th>\n",
       "      <td>2254736</td>\n",
       "      <td>1</td>\n",
       "      <td>prior</td>\n",
       "      <td>4</td>\n",
       "      <td>4</td>\n",
       "      <td>7</td>\n",
       "      <td>29.0</td>\n",
       "      <td>196</td>\n",
       "      <td>1</td>\n",
       "      <td>1</td>\n",
       "      <td>both</td>\n",
       "      <td>Soda</td>\n",
       "      <td>77</td>\n",
       "      <td>7</td>\n",
       "      <td>9.0</td>\n",
       "      <td>Mid-range product</td>\n",
       "      <td>Least busy days</td>\n",
       "      <td>Average orders</td>\n",
       "      <td>10</td>\n",
       "      <td>New customer</td>\n",
       "      <td>Low Spender</td>\n",
       "      <td>6.367797</td>\n",
       "      <td>20.5</td>\n",
       "      <td>Regular customer</td>\n",
       "      <td>Alabama</td>\n",
       "      <td>31</td>\n",
       "      <td>3</td>\n",
       "      <td>married</td>\n",
       "      <td>40423</td>\n",
       "      <td>South</td>\n",
       "    </tr>\n",
       "    <tr>\n",
       "      <th>4</th>\n",
       "      <td>431534</td>\n",
       "      <td>1</td>\n",
       "      <td>prior</td>\n",
       "      <td>5</td>\n",
       "      <td>4</td>\n",
       "      <td>15</td>\n",
       "      <td>28.0</td>\n",
       "      <td>196</td>\n",
       "      <td>1</td>\n",
       "      <td>1</td>\n",
       "      <td>both</td>\n",
       "      <td>Soda</td>\n",
       "      <td>77</td>\n",
       "      <td>7</td>\n",
       "      <td>9.0</td>\n",
       "      <td>Mid-range product</td>\n",
       "      <td>Least busy days</td>\n",
       "      <td>Most orders</td>\n",
       "      <td>10</td>\n",
       "      <td>New customer</td>\n",
       "      <td>Low Spender</td>\n",
       "      <td>6.367797</td>\n",
       "      <td>20.5</td>\n",
       "      <td>Regular customer</td>\n",
       "      <td>Alabama</td>\n",
       "      <td>31</td>\n",
       "      <td>3</td>\n",
       "      <td>married</td>\n",
       "      <td>40423</td>\n",
       "      <td>South</td>\n",
       "    </tr>\n",
       "  </tbody>\n",
       "</table>\n",
       "</div>"
      ],
      "text/plain": [
       "   order_id  user_id eval_set  order_number  orders_day_of_week  \\\n",
       "0   2539329        1    prior             1                   2   \n",
       "1   2398795        1    prior             2                   3   \n",
       "2    473747        1    prior             3                   3   \n",
       "3   2254736        1    prior             4                   4   \n",
       "4    431534        1    prior             5                   4   \n",
       "\n",
       "   order_hour_of_day  days_since_prior_order  product_id  add_to_cart_order  \\\n",
       "0                  8                     NaN         196                  1   \n",
       "1                  7                    15.0         196                  1   \n",
       "2                 12                    21.0         196                  1   \n",
       "3                  7                    29.0         196                  1   \n",
       "4                 15                    28.0         196                  1   \n",
       "\n",
       "   reordered _merge product_name  aisle_id  department_id  prices  \\\n",
       "0          0   both         Soda        77              7     9.0   \n",
       "1          1   both         Soda        77              7     9.0   \n",
       "2          1   both         Soda        77              7     9.0   \n",
       "3          1   both         Soda        77              7     9.0   \n",
       "4          1   both         Soda        77              7     9.0   \n",
       "\n",
       "         price_range     busiest_days busiest_period_of_day  max_order  \\\n",
       "0  Mid-range product   Regularly busy        Average orders         10   \n",
       "1  Mid-range product   Regularly busy        Average orders         10   \n",
       "2  Mid-range product   Regularly busy           Most orders         10   \n",
       "3  Mid-range product  Least busy days        Average orders         10   \n",
       "4  Mid-range product  Least busy days           Most orders         10   \n",
       "\n",
       "   loyalty_flag Type_of_Spender  Mean_Spending  order_freq_flag  \\\n",
       "0  New customer     Low Spender       6.367797             20.5   \n",
       "1  New customer     Low Spender       6.367797             20.5   \n",
       "2  New customer     Low Spender       6.367797             20.5   \n",
       "3  New customer     Low Spender       6.367797             20.5   \n",
       "4  New customer     Low Spender       6.367797             20.5   \n",
       "\n",
       "  Customer_Frequency    State  Age  Dependents Family_Status  Income Region  \n",
       "0   Regular customer  Alabama   31           3       married   40423  South  \n",
       "1   Regular customer  Alabama   31           3       married   40423  South  \n",
       "2   Regular customer  Alabama   31           3       married   40423  South  \n",
       "3   Regular customer  Alabama   31           3       married   40423  South  \n",
       "4   Regular customer  Alabama   31           3       married   40423  South  "
      ]
     },
     "execution_count": 8,
     "metadata": {},
     "output_type": "execute_result"
    }
   ],
   "source": [
    "df_fin2.head()"
   ]
  },
  {
   "cell_type": "code",
   "execution_count": 9,
   "id": "f4ff7a1c",
   "metadata": {},
   "outputs": [
    {
     "data": {
      "text/plain": [
       "South        10791885\n",
       "West          8292913\n",
       "Midwest       7597325\n",
       "Northeast     5722736\n",
       "Name: Region, dtype: int64"
      ]
     },
     "execution_count": 9,
     "metadata": {},
     "output_type": "execute_result"
    }
   ],
   "source": [
    "df_fin2['Region'].value_counts(dropna=False)"
   ]
  },
  {
   "cell_type": "markdown",
   "id": "b905b2c9",
   "metadata": {},
   "source": [
    "3B) Determine whether there’s a difference in spending habits between the different U.S. regions. (Hint: You can do this by crossing the variable you just created with the spending flag.)"
   ]
  },
  {
   "cell_type": "code",
   "execution_count": 10,
   "id": "ecfb71fc",
   "metadata": {},
   "outputs": [],
   "source": [
    "#subset\n",
    "sub1 = df_fin2[[\"Mean_Spending\", \"Region\"]]"
   ]
  },
  {
   "cell_type": "code",
   "execution_count": 11,
   "id": "1252e786",
   "metadata": {},
   "outputs": [
    {
     "name": "stdout",
     "output_type": "stream",
     "text": [
      "          Mean_Spending     Region\n",
      "0              6.367797      South\n",
      "59             3.980556    Midwest\n",
      "131            8.372059      South\n",
      "335            7.012683       West\n",
      "540            8.137793      South\n",
      "...                 ...        ...\n",
      "32404760      14.050000       West\n",
      "32404776      14.100000  Northeast\n",
      "32404779      10.800000    Midwest\n",
      "32404794       1.600000       West\n",
      "32404819      13.285714       West\n",
      "\n",
      "[164540 rows x 2 columns]\n"
     ]
    }
   ],
   "source": [
    "#remove dups\n",
    "sub1 = sub1.drop_duplicates()\n",
    "print(sub1)"
   ]
  },
  {
   "cell_type": "code",
   "execution_count": 12,
   "id": "84c42ee5",
   "metadata": {},
   "outputs": [
    {
     "data": {
      "text/plain": [
       "Region\n",
       "Midwest      560767.862558\n",
       "Northeast    385759.772027\n",
       "South        763077.757288\n",
       "West         555588.658075\n",
       "Name: Mean_Spending, dtype: float64"
      ]
     },
     "execution_count": 12,
     "metadata": {},
     "output_type": "execute_result"
    }
   ],
   "source": [
    "#groupby regions\n",
    "sub1.groupby(by='Region')['Mean_Spending'].sum()"
   ]
  },
  {
   "cell_type": "code",
   "execution_count": 13,
   "id": "4de7c44d",
   "metadata": {},
   "outputs": [
    {
     "data": {
      "text/plain": [
       "2265194.0499471882"
      ]
     },
     "execution_count": 13,
     "metadata": {},
     "output_type": "execute_result"
    }
   ],
   "source": [
    "#check values totals\n",
    "sub1['Mean_Spending'].sum()"
   ]
  },
  {
   "cell_type": "code",
   "execution_count": 14,
   "id": "95206929",
   "metadata": {},
   "outputs": [
    {
     "data": {
      "image/png": "[encoded data removed]",
      "text/plain": [
       "<Figure size 640x480 with 1 Axes>"
      ]
     },
     "metadata": {},
     "output_type": "display_data"
    }
   ],
   "source": [
    "reg_bar = sub1['Region'].value_counts().plot.bar(color = ['red', 'blue', 'green', 'orange'])"
   ]
  },
  {
   "cell_type": "code",
   "execution_count": 15,
   "id": "7e86f57d",
   "metadata": {},
   "outputs": [],
   "source": [
    "#export\n",
    "reg_bar.figure.savefig(os.path.join(path, '04 Analysis', 'region_spending_bar.png'))"
   ]
  },
  {
   "cell_type": "markdown",
   "id": "20a0fa5b",
   "metadata": {},
   "source": [
    "4) The Instacart CFO isn’t interested in customers who don’t generate much revenue for the app. Create an exclusion flag for low-activity customers (customers with less than 5 orders) and exclude them from the data. Make sure you export this sample."
   ]
  },
  {
   "cell_type": "code",
   "execution_count": 16,
   "id": "762f1891",
   "metadata": {},
   "outputs": [],
   "source": [
    "#define low activity customers by max order column\n",
    "df_fin2.loc[df_fin2['max_order'] < 5, 'Customer_Activity'] = 'Low activity customer'\n",
    "df_fin2.loc[df_fin2['max_order'] >= 5, 'Customer_Activity'] = 'High activity customer'"
   ]
  },
  {
   "cell_type": "code",
   "execution_count": 17,
   "id": "7660d190",
   "metadata": {},
   "outputs": [
    {
     "data": {
      "text/plain": [
       "(32404859, 31)"
      ]
     },
     "execution_count": 17,
     "metadata": {},
     "output_type": "execute_result"
    }
   ],
   "source": [
    "df_fin2.shape"
   ]
  },
  {
   "cell_type": "code",
   "execution_count": 18,
   "id": "76b76da9",
   "metadata": {},
   "outputs": [
    {
     "data": {
      "text/html": [
       "<div>\n",
       "<style scoped>\n",
       "    .dataframe tbody tr th:only-of-type {\n",
       "        vertical-align: middle;\n",
       "    }\n",
       "\n",
       "    .dataframe tbody tr th {\n",
       "        vertical-align: top;\n",
       "    }\n",
       "\n",
       "    .dataframe thead th {\n",
       "        text-align: right;\n",
       "    }\n",
       "</style>\n",
       "<table border=\"1\" class=\"dataframe\">\n",
       "  <thead>\n",
       "    <tr style=\"text-align: right;\">\n",
       "      <th></th>\n",
       "      <th>order_id</th>\n",
       "      <th>user_id</th>\n",
       "      <th>eval_set</th>\n",
       "      <th>order_number</th>\n",
       "      <th>orders_day_of_week</th>\n",
       "      <th>order_hour_of_day</th>\n",
       "      <th>days_since_prior_order</th>\n",
       "      <th>product_id</th>\n",
       "      <th>add_to_cart_order</th>\n",
       "      <th>reordered</th>\n",
       "      <th>_merge</th>\n",
       "      <th>product_name</th>\n",
       "      <th>aisle_id</th>\n",
       "      <th>department_id</th>\n",
       "      <th>prices</th>\n",
       "      <th>price_range</th>\n",
       "      <th>busiest_days</th>\n",
       "      <th>busiest_period_of_day</th>\n",
       "      <th>max_order</th>\n",
       "      <th>loyalty_flag</th>\n",
       "      <th>Type_of_Spender</th>\n",
       "      <th>Mean_Spending</th>\n",
       "      <th>order_freq_flag</th>\n",
       "      <th>Customer_Frequency</th>\n",
       "      <th>State</th>\n",
       "      <th>Age</th>\n",
       "      <th>Dependents</th>\n",
       "      <th>Family_Status</th>\n",
       "      <th>Income</th>\n",
       "      <th>Region</th>\n",
       "      <th>Customer_Activity</th>\n",
       "    </tr>\n",
       "  </thead>\n",
       "  <tbody>\n",
       "    <tr>\n",
       "      <th>0</th>\n",
       "      <td>2539329</td>\n",
       "      <td>1</td>\n",
       "      <td>prior</td>\n",
       "      <td>1</td>\n",
       "      <td>2</td>\n",
       "      <td>8</td>\n",
       "      <td>NaN</td>\n",
       "      <td>196</td>\n",
       "      <td>1</td>\n",
       "      <td>0</td>\n",
       "      <td>both</td>\n",
       "      <td>Soda</td>\n",
       "      <td>77</td>\n",
       "      <td>7</td>\n",
       "      <td>9.0</td>\n",
       "      <td>Mid-range product</td>\n",
       "      <td>Regularly busy</td>\n",
       "      <td>Average orders</td>\n",
       "      <td>10</td>\n",
       "      <td>New customer</td>\n",
       "      <td>Low Spender</td>\n",
       "      <td>6.367797</td>\n",
       "      <td>20.5</td>\n",
       "      <td>Regular customer</td>\n",
       "      <td>Alabama</td>\n",
       "      <td>31</td>\n",
       "      <td>3</td>\n",
       "      <td>married</td>\n",
       "      <td>40423</td>\n",
       "      <td>South</td>\n",
       "      <td>High activity customer</td>\n",
       "    </tr>\n",
       "    <tr>\n",
       "      <th>1</th>\n",
       "      <td>2398795</td>\n",
       "      <td>1</td>\n",
       "      <td>prior</td>\n",
       "      <td>2</td>\n",
       "      <td>3</td>\n",
       "      <td>7</td>\n",
       "      <td>15.0</td>\n",
       "      <td>196</td>\n",
       "      <td>1</td>\n",
       "      <td>1</td>\n",
       "      <td>both</td>\n",
       "      <td>Soda</td>\n",
       "      <td>77</td>\n",
       "      <td>7</td>\n",
       "      <td>9.0</td>\n",
       "      <td>Mid-range product</td>\n",
       "      <td>Regularly busy</td>\n",
       "      <td>Average orders</td>\n",
       "      <td>10</td>\n",
       "      <td>New customer</td>\n",
       "      <td>Low Spender</td>\n",
       "      <td>6.367797</td>\n",
       "      <td>20.5</td>\n",
       "      <td>Regular customer</td>\n",
       "      <td>Alabama</td>\n",
       "      <td>31</td>\n",
       "      <td>3</td>\n",
       "      <td>married</td>\n",
       "      <td>40423</td>\n",
       "      <td>South</td>\n",
       "      <td>High activity customer</td>\n",
       "    </tr>\n",
       "    <tr>\n",
       "      <th>2</th>\n",
       "      <td>473747</td>\n",
       "      <td>1</td>\n",
       "      <td>prior</td>\n",
       "      <td>3</td>\n",
       "      <td>3</td>\n",
       "      <td>12</td>\n",
       "      <td>21.0</td>\n",
       "      <td>196</td>\n",
       "      <td>1</td>\n",
       "      <td>1</td>\n",
       "      <td>both</td>\n",
       "      <td>Soda</td>\n",
       "      <td>77</td>\n",
       "      <td>7</td>\n",
       "      <td>9.0</td>\n",
       "      <td>Mid-range product</td>\n",
       "      <td>Regularly busy</td>\n",
       "      <td>Most orders</td>\n",
       "      <td>10</td>\n",
       "      <td>New customer</td>\n",
       "      <td>Low Spender</td>\n",
       "      <td>6.367797</td>\n",
       "      <td>20.5</td>\n",
       "      <td>Regular customer</td>\n",
       "      <td>Alabama</td>\n",
       "      <td>31</td>\n",
       "      <td>3</td>\n",
       "      <td>married</td>\n",
       "      <td>40423</td>\n",
       "      <td>South</td>\n",
       "      <td>High activity customer</td>\n",
       "    </tr>\n",
       "    <tr>\n",
       "      <th>3</th>\n",
       "      <td>2254736</td>\n",
       "      <td>1</td>\n",
       "      <td>prior</td>\n",
       "      <td>4</td>\n",
       "      <td>4</td>\n",
       "      <td>7</td>\n",
       "      <td>29.0</td>\n",
       "      <td>196</td>\n",
       "      <td>1</td>\n",
       "      <td>1</td>\n",
       "      <td>both</td>\n",
       "      <td>Soda</td>\n",
       "      <td>77</td>\n",
       "      <td>7</td>\n",
       "      <td>9.0</td>\n",
       "      <td>Mid-range product</td>\n",
       "      <td>Least busy days</td>\n",
       "      <td>Average orders</td>\n",
       "      <td>10</td>\n",
       "      <td>New customer</td>\n",
       "      <td>Low Spender</td>\n",
       "      <td>6.367797</td>\n",
       "      <td>20.5</td>\n",
       "      <td>Regular customer</td>\n",
       "      <td>Alabama</td>\n",
       "      <td>31</td>\n",
       "      <td>3</td>\n",
       "      <td>married</td>\n",
       "      <td>40423</td>\n",
       "      <td>South</td>\n",
       "      <td>High activity customer</td>\n",
       "    </tr>\n",
       "    <tr>\n",
       "      <th>4</th>\n",
       "      <td>431534</td>\n",
       "      <td>1</td>\n",
       "      <td>prior</td>\n",
       "      <td>5</td>\n",
       "      <td>4</td>\n",
       "      <td>15</td>\n",
       "      <td>28.0</td>\n",
       "      <td>196</td>\n",
       "      <td>1</td>\n",
       "      <td>1</td>\n",
       "      <td>both</td>\n",
       "      <td>Soda</td>\n",
       "      <td>77</td>\n",
       "      <td>7</td>\n",
       "      <td>9.0</td>\n",
       "      <td>Mid-range product</td>\n",
       "      <td>Least busy days</td>\n",
       "      <td>Most orders</td>\n",
       "      <td>10</td>\n",
       "      <td>New customer</td>\n",
       "      <td>Low Spender</td>\n",
       "      <td>6.367797</td>\n",
       "      <td>20.5</td>\n",
       "      <td>Regular customer</td>\n",
       "      <td>Alabama</td>\n",
       "      <td>31</td>\n",
       "      <td>3</td>\n",
       "      <td>married</td>\n",
       "      <td>40423</td>\n",
       "      <td>South</td>\n",
       "      <td>High activity customer</td>\n",
       "    </tr>\n",
       "  </tbody>\n",
       "</table>\n",
       "</div>"
      ],
      "text/plain": [
       "   order_id  user_id eval_set  order_number  orders_day_of_week  \\\n",
       "0   2539329        1    prior             1                   2   \n",
       "1   2398795        1    prior             2                   3   \n",
       "2    473747        1    prior             3                   3   \n",
       "3   2254736        1    prior             4                   4   \n",
       "4    431534        1    prior             5                   4   \n",
       "\n",
       "   order_hour_of_day  days_since_prior_order  product_id  add_to_cart_order  \\\n",
       "0                  8                     NaN         196                  1   \n",
       "1                  7                    15.0         196                  1   \n",
       "2                 12                    21.0         196                  1   \n",
       "3                  7                    29.0         196                  1   \n",
       "4                 15                    28.0         196                  1   \n",
       "\n",
       "   reordered _merge product_name  aisle_id  department_id  prices  \\\n",
       "0          0   both         Soda        77              7     9.0   \n",
       "1          1   both         Soda        77              7     9.0   \n",
       "2          1   both         Soda        77              7     9.0   \n",
       "3          1   both         Soda        77              7     9.0   \n",
       "4          1   both         Soda        77              7     9.0   \n",
       "\n",
       "         price_range     busiest_days busiest_period_of_day  max_order  \\\n",
       "0  Mid-range product   Regularly busy        Average orders         10   \n",
       "1  Mid-range product   Regularly busy        Average orders         10   \n",
       "2  Mid-range product   Regularly busy           Most orders         10   \n",
       "3  Mid-range product  Least busy days        Average orders         10   \n",
       "4  Mid-range product  Least busy days           Most orders         10   \n",
       "\n",
       "   loyalty_flag Type_of_Spender  Mean_Spending  order_freq_flag  \\\n",
       "0  New customer     Low Spender       6.367797             20.5   \n",
       "1  New customer     Low Spender       6.367797             20.5   \n",
       "2  New customer     Low Spender       6.367797             20.5   \n",
       "3  New customer     Low Spender       6.367797             20.5   \n",
       "4  New customer     Low Spender       6.367797             20.5   \n",
       "\n",
       "  Customer_Frequency    State  Age  Dependents Family_Status  Income Region  \\\n",
       "0   Regular customer  Alabama   31           3       married   40423  South   \n",
       "1   Regular customer  Alabama   31           3       married   40423  South   \n",
       "2   Regular customer  Alabama   31           3       married   40423  South   \n",
       "3   Regular customer  Alabama   31           3       married   40423  South   \n",
       "4   Regular customer  Alabama   31           3       married   40423  South   \n",
       "\n",
       "        Customer_Activity  \n",
       "0  High activity customer  \n",
       "1  High activity customer  \n",
       "2  High activity customer  \n",
       "3  High activity customer  \n",
       "4  High activity customer  "
      ]
     },
     "execution_count": 18,
     "metadata": {},
     "output_type": "execute_result"
    }
   ],
   "source": [
    "#check table \n",
    "df_fin2.head(5)"
   ]
  },
  {
   "cell_type": "code",
   "execution_count": 19,
   "id": "6e98544e",
   "metadata": {
    "scrolled": true
   },
   "outputs": [
    {
     "data": {
      "text/plain": [
       "High activity customer    30964564\n",
       "Low activity customer      1440295\n",
       "Name: Customer_Activity, dtype: int64"
      ]
     },
     "execution_count": 19,
     "metadata": {},
     "output_type": "execute_result"
    }
   ],
   "source": [
    "df_fin2['Customer_Activity'].value_counts()"
   ]
  },
  {
   "cell_type": "code",
   "execution_count": 20,
   "id": "d0f10eff",
   "metadata": {},
   "outputs": [],
   "source": [
    "#index for drop\n",
    "index1 = df_fin2[df_fin2['Customer_Activity'] == 'Low activity customer'].index"
   ]
  },
  {
   "cell_type": "code",
   "execution_count": 21,
   "id": "84fd187e",
   "metadata": {},
   "outputs": [],
   "source": [
    "#drop Low activity customer rows\n",
    "df_fin2.drop(index1,inplace=True)"
   ]
  },
  {
   "cell_type": "code",
   "execution_count": 22,
   "id": "ac87c424",
   "metadata": {},
   "outputs": [
    {
     "data": {
      "text/plain": [
       "High activity customer    30964564\n",
       "Name: Customer_Activity, dtype: int64"
      ]
     },
     "execution_count": 22,
     "metadata": {},
     "output_type": "execute_result"
    }
   ],
   "source": [
    "#check to see if Low activity customer was removed\n",
    "df_fin2['Customer_Activity'].value_counts()"
   ]
  },
  {
   "cell_type": "markdown",
   "id": "4c98cd8a",
   "metadata": {},
   "source": [
    "5) Create a profiling variable based on age, income, certain goods in the “department_id” column, and number of dependents. You might also use the “orders_day_of_the_week” and “order_hour_of_day” columns if you can think of a way they would impact customer profiles."
   ]
  },
  {
   "cell_type": "code",
   "execution_count": 23,
   "id": "ae5e8c3f",
   "metadata": {},
   "outputs": [],
   "source": [
    "#create profile variable graph\n",
    "sub2 = df_fin2[[\"user_id\",\"department_id\", \"product_name\", \"Age\", \"Income\", \"Dependents\", \"Region\"]]\n",
    "#remove dups\n",
    "sub2 = sub2.drop_duplicates()"
   ]
  },
  {
   "cell_type": "code",
   "execution_count": 24,
   "id": "6c904b3b",
   "metadata": {},
   "outputs": [
    {
     "data": {
      "text/html": [
       "<div>\n",
       "<style scoped>\n",
       "    .dataframe tbody tr th:only-of-type {\n",
       "        vertical-align: middle;\n",
       "    }\n",
       "\n",
       "    .dataframe tbody tr th {\n",
       "        vertical-align: top;\n",
       "    }\n",
       "\n",
       "    .dataframe thead th {\n",
       "        text-align: right;\n",
       "    }\n",
       "</style>\n",
       "<table border=\"1\" class=\"dataframe\">\n",
       "  <thead>\n",
       "    <tr style=\"text-align: right;\">\n",
       "      <th></th>\n",
       "      <th>user_id</th>\n",
       "      <th>department_id</th>\n",
       "      <th>product_name</th>\n",
       "      <th>Age</th>\n",
       "      <th>Income</th>\n",
       "      <th>Dependents</th>\n",
       "      <th>Region</th>\n",
       "    </tr>\n",
       "  </thead>\n",
       "  <tbody>\n",
       "    <tr>\n",
       "      <th>0</th>\n",
       "      <td>1</td>\n",
       "      <td>7</td>\n",
       "      <td>Soda</td>\n",
       "      <td>31</td>\n",
       "      <td>40423</td>\n",
       "      <td>3</td>\n",
       "      <td>South</td>\n",
       "    </tr>\n",
       "    <tr>\n",
       "      <th>10</th>\n",
       "      <td>1</td>\n",
       "      <td>16</td>\n",
       "      <td>Organic Unsweetened Vanilla Almond Milk</td>\n",
       "      <td>31</td>\n",
       "      <td>40423</td>\n",
       "      <td>3</td>\n",
       "      <td>South</td>\n",
       "    </tr>\n",
       "    <tr>\n",
       "      <th>11</th>\n",
       "      <td>1</td>\n",
       "      <td>19</td>\n",
       "      <td>Original Beef Jerky</td>\n",
       "      <td>31</td>\n",
       "      <td>40423</td>\n",
       "      <td>3</td>\n",
       "      <td>South</td>\n",
       "    </tr>\n",
       "    <tr>\n",
       "      <th>21</th>\n",
       "      <td>1</td>\n",
       "      <td>19</td>\n",
       "      <td>Aged White Cheddar Popcorn</td>\n",
       "      <td>31</td>\n",
       "      <td>40423</td>\n",
       "      <td>3</td>\n",
       "      <td>South</td>\n",
       "    </tr>\n",
       "    <tr>\n",
       "      <th>23</th>\n",
       "      <td>1</td>\n",
       "      <td>17</td>\n",
       "      <td>XL Pick-A-Size Paper Towel Rolls</td>\n",
       "      <td>31</td>\n",
       "      <td>40423</td>\n",
       "      <td>3</td>\n",
       "      <td>South</td>\n",
       "    </tr>\n",
       "  </tbody>\n",
       "</table>\n",
       "</div>"
      ],
      "text/plain": [
       "    user_id  department_id                             product_name  Age  \\\n",
       "0         1              7                                     Soda   31   \n",
       "10        1             16  Organic Unsweetened Vanilla Almond Milk   31   \n",
       "11        1             19                      Original Beef Jerky   31   \n",
       "21        1             19               Aged White Cheddar Popcorn   31   \n",
       "23        1             17         XL Pick-A-Size Paper Towel Rolls   31   \n",
       "\n",
       "    Income  Dependents Region  \n",
       "0    40423           3  South  \n",
       "10   40423           3  South  \n",
       "11   40423           3  South  \n",
       "21   40423           3  South  \n",
       "23   40423           3  South  "
      ]
     },
     "execution_count": 24,
     "metadata": {},
     "output_type": "execute_result"
    }
   ],
   "source": [
    "sub2.head()"
   ]
  },
  {
   "cell_type": "code",
   "execution_count": 25,
   "id": "33284f4e",
   "metadata": {},
   "outputs": [
    {
     "data": {
      "text/html": [
       "<div>\n",
       "<style scoped>\n",
       "    .dataframe tbody tr th:only-of-type {\n",
       "        vertical-align: middle;\n",
       "    }\n",
       "\n",
       "    .dataframe tbody tr th {\n",
       "        vertical-align: top;\n",
       "    }\n",
       "\n",
       "    .dataframe thead th {\n",
       "        text-align: right;\n",
       "    }\n",
       "</style>\n",
       "<table border=\"1\" class=\"dataframe\">\n",
       "  <thead>\n",
       "    <tr style=\"text-align: right;\">\n",
       "      <th></th>\n",
       "      <th>department_id</th>\n",
       "      <th>Dependents</th>\n",
       "    </tr>\n",
       "  </thead>\n",
       "  <tbody>\n",
       "    <tr>\n",
       "      <th>0</th>\n",
       "      <td>7</td>\n",
       "      <td>3</td>\n",
       "    </tr>\n",
       "    <tr>\n",
       "      <th>10</th>\n",
       "      <td>16</td>\n",
       "      <td>3</td>\n",
       "    </tr>\n",
       "    <tr>\n",
       "      <th>11</th>\n",
       "      <td>19</td>\n",
       "      <td>3</td>\n",
       "    </tr>\n",
       "    <tr>\n",
       "      <th>21</th>\n",
       "      <td>19</td>\n",
       "      <td>3</td>\n",
       "    </tr>\n",
       "    <tr>\n",
       "      <th>23</th>\n",
       "      <td>17</td>\n",
       "      <td>3</td>\n",
       "    </tr>\n",
       "  </tbody>\n",
       "</table>\n",
       "</div>"
      ],
      "text/plain": [
       "    department_id  Dependents\n",
       "0               7           3\n",
       "10             16           3\n",
       "11             19           3\n",
       "21             19           3\n",
       "23             17           3"
      ]
     },
     "execution_count": 25,
     "metadata": {},
     "output_type": "execute_result"
    }
   ],
   "source": [
    "#create profile variable graph of the top departments based on the number of dependents\n",
    "d_d = sub2[['department_id', 'Dependents']]\n",
    "d_d.head()"
   ]
  },
  {
   "cell_type": "code",
   "execution_count": 26,
   "id": "a9ac85bf",
   "metadata": {},
   "outputs": [],
   "source": [
    "d_d2 = d_d.groupby('department_id').sum('Dependents')"
   ]
  },
  {
   "cell_type": "code",
   "execution_count": 27,
   "id": "24869c1c",
   "metadata": {},
   "outputs": [
    {
     "data": {
      "text/html": [
       "<div>\n",
       "<style scoped>\n",
       "    .dataframe tbody tr th:only-of-type {\n",
       "        vertical-align: middle;\n",
       "    }\n",
       "\n",
       "    .dataframe tbody tr th {\n",
       "        vertical-align: top;\n",
       "    }\n",
       "\n",
       "    .dataframe thead th {\n",
       "        text-align: right;\n",
       "    }\n",
       "</style>\n",
       "<table border=\"1\" class=\"dataframe\">\n",
       "  <thead>\n",
       "    <tr style=\"text-align: right;\">\n",
       "      <th></th>\n",
       "      <th>Region</th>\n",
       "      <th>department_id</th>\n",
       "    </tr>\n",
       "  </thead>\n",
       "  <tbody>\n",
       "    <tr>\n",
       "      <th>0</th>\n",
       "      <td>South</td>\n",
       "      <td>7</td>\n",
       "    </tr>\n",
       "    <tr>\n",
       "      <th>10</th>\n",
       "      <td>South</td>\n",
       "      <td>16</td>\n",
       "    </tr>\n",
       "    <tr>\n",
       "      <th>11</th>\n",
       "      <td>South</td>\n",
       "      <td>19</td>\n",
       "    </tr>\n",
       "    <tr>\n",
       "      <th>21</th>\n",
       "      <td>South</td>\n",
       "      <td>19</td>\n",
       "    </tr>\n",
       "    <tr>\n",
       "      <th>23</th>\n",
       "      <td>South</td>\n",
       "      <td>17</td>\n",
       "    </tr>\n",
       "    <tr>\n",
       "      <th>...</th>\n",
       "      <td>...</td>\n",
       "      <td>...</td>\n",
       "    </tr>\n",
       "    <tr>\n",
       "      <th>32404798</th>\n",
       "      <td>South</td>\n",
       "      <td>7</td>\n",
       "    </tr>\n",
       "    <tr>\n",
       "      <th>32404810</th>\n",
       "      <td>West</td>\n",
       "      <td>5</td>\n",
       "    </tr>\n",
       "    <tr>\n",
       "      <th>32404819</th>\n",
       "      <td>West</td>\n",
       "      <td>13</td>\n",
       "    </tr>\n",
       "    <tr>\n",
       "      <th>32404824</th>\n",
       "      <td>West</td>\n",
       "      <td>13</td>\n",
       "    </tr>\n",
       "    <tr>\n",
       "      <th>32404829</th>\n",
       "      <td>West</td>\n",
       "      <td>7</td>\n",
       "    </tr>\n",
       "  </tbody>\n",
       "</table>\n",
       "<p>12196882 rows × 2 columns</p>\n",
       "</div>"
      ],
      "text/plain": [
       "         Region  department_id\n",
       "0         South              7\n",
       "10        South             16\n",
       "11        South             19\n",
       "21        South             19\n",
       "23        South             17\n",
       "...         ...            ...\n",
       "32404798  South              7\n",
       "32404810   West              5\n",
       "32404819   West             13\n",
       "32404824   West             13\n",
       "32404829   West              7\n",
       "\n",
       "[12196882 rows x 2 columns]"
      ]
     },
     "execution_count": 27,
     "metadata": {},
     "output_type": "execute_result"
    }
   ],
   "source": [
    "#create profile variable graph or the top department per region\n",
    "reg_dept = sub2[[\"Region\", \"department_id\"]]\n",
    "reg_dept "
   ]
  },
  {
   "cell_type": "markdown",
   "id": "e4f69a5e",
   "metadata": {},
   "source": [
    "6) Create an appropriate visualization to show the distribution of profiles."
   ]
  },
  {
   "cell_type": "code",
   "execution_count": 28,
   "id": "d7da7039",
   "metadata": {},
   "outputs": [
    {
     "data": {
      "image/png": "[encoded data removed]",
      "text/plain": [
       "<Figure size 640x480 with 1 Axes>"
      ]
     },
     "metadata": {},
     "output_type": "display_data"
    }
   ],
   "source": [
    "#which dept is popular for which region\n",
    "reg_bar = reg_dept['Region'].value_counts().plot.bar()"
   ]
  },
  {
   "cell_type": "code",
   "execution_count": 30,
   "id": "083a3562",
   "metadata": {},
   "outputs": [],
   "source": [
    "#save chart\n",
    "reg_bar.figure.savefig(os.path.join(path, '04 Analysis', 'finalregion_bar.png'))"
   ]
  },
  {
   "cell_type": "code",
   "execution_count": 31,
   "id": "87d12f6a",
   "metadata": {},
   "outputs": [
    {
     "data": {
      "image/png": "[encoded data removed]",
      "text/plain": [
       "<Figure size 640x480 with 1 Axes>"
      ]
     },
     "metadata": {},
     "output_type": "display_data"
    }
   ],
   "source": [
    "# top department based on the number of dependents \n",
    "depend_bar = d_d['department_id'].value_counts().plot.bar()"
   ]
  },
  {
   "cell_type": "code",
   "execution_count": 32,
   "id": "9c6933a4",
   "metadata": {},
   "outputs": [],
   "source": [
    "#save chart\n",
    "depend_bar.figure.savefig(os.path.join(path, '04 Analysis', 'finaldependent_bar.png'))"
   ]
  },
  {
   "cell_type": "markdown",
   "id": "810c99af",
   "metadata": {},
   "source": [
    "7) Aggregate the max, mean, and min variables on a customer-profile level for usage frequency and expenditure."
   ]
  },
  {
   "cell_type": "code",
   "execution_count": 33,
   "id": "86ba4589",
   "metadata": {},
   "outputs": [
    {
     "data": {
      "text/html": [
       "<div>\n",
       "<style scoped>\n",
       "    .dataframe tbody tr th:only-of-type {\n",
       "        vertical-align: middle;\n",
       "    }\n",
       "\n",
       "    .dataframe tbody tr th {\n",
       "        vertical-align: top;\n",
       "    }\n",
       "\n",
       "    .dataframe thead th {\n",
       "        text-align: right;\n",
       "    }\n",
       "</style>\n",
       "<table border=\"1\" class=\"dataframe\">\n",
       "  <thead>\n",
       "    <tr style=\"text-align: right;\">\n",
       "      <th></th>\n",
       "      <th>user_id</th>\n",
       "      <th>department_id</th>\n",
       "      <th>Age</th>\n",
       "      <th>Income</th>\n",
       "      <th>Dependents</th>\n",
       "    </tr>\n",
       "  </thead>\n",
       "  <tbody>\n",
       "    <tr>\n",
       "      <th>count</th>\n",
       "      <td>1.219688e+07</td>\n",
       "      <td>1.219688e+07</td>\n",
       "      <td>1.219688e+07</td>\n",
       "      <td>1.219688e+07</td>\n",
       "      <td>1.219688e+07</td>\n",
       "    </tr>\n",
       "    <tr>\n",
       "      <th>mean</th>\n",
       "      <td>1.029860e+05</td>\n",
       "      <td>1.023830e+01</td>\n",
       "      <td>4.949110e+01</td>\n",
       "      <td>1.003912e+05</td>\n",
       "      <td>1.502553e+00</td>\n",
       "    </tr>\n",
       "    <tr>\n",
       "      <th>std</th>\n",
       "      <td>5.944284e+04</td>\n",
       "      <td>6.208513e+00</td>\n",
       "      <td>1.849178e+01</td>\n",
       "      <td>4.317213e+04</td>\n",
       "      <td>1.118245e+00</td>\n",
       "    </tr>\n",
       "    <tr>\n",
       "      <th>min</th>\n",
       "      <td>1.000000e+00</td>\n",
       "      <td>1.000000e+00</td>\n",
       "      <td>1.800000e+01</td>\n",
       "      <td>2.590300e+04</td>\n",
       "      <td>0.000000e+00</td>\n",
       "    </tr>\n",
       "    <tr>\n",
       "      <th>25%</th>\n",
       "      <td>5.157100e+04</td>\n",
       "      <td>4.000000e+00</td>\n",
       "      <td>3.300000e+01</td>\n",
       "      <td>6.811700e+04</td>\n",
       "      <td>1.000000e+00</td>\n",
       "    </tr>\n",
       "    <tr>\n",
       "      <th>50%</th>\n",
       "      <td>1.026590e+05</td>\n",
       "      <td>1.100000e+01</td>\n",
       "      <td>4.900000e+01</td>\n",
       "      <td>9.729200e+04</td>\n",
       "      <td>2.000000e+00</td>\n",
       "    </tr>\n",
       "    <tr>\n",
       "      <th>75%</th>\n",
       "      <td>1.544530e+05</td>\n",
       "      <td>1.600000e+01</td>\n",
       "      <td>6.600000e+01</td>\n",
       "      <td>1.288080e+05</td>\n",
       "      <td>3.000000e+00</td>\n",
       "    </tr>\n",
       "    <tr>\n",
       "      <th>max</th>\n",
       "      <td>2.062090e+05</td>\n",
       "      <td>2.100000e+01</td>\n",
       "      <td>8.100000e+01</td>\n",
       "      <td>5.939010e+05</td>\n",
       "      <td>3.000000e+00</td>\n",
       "    </tr>\n",
       "  </tbody>\n",
       "</table>\n",
       "</div>"
      ],
      "text/plain": [
       "            user_id  department_id           Age        Income    Dependents\n",
       "count  1.219688e+07   1.219688e+07  1.219688e+07  1.219688e+07  1.219688e+07\n",
       "mean   1.029860e+05   1.023830e+01  4.949110e+01  1.003912e+05  1.502553e+00\n",
       "std    5.944284e+04   6.208513e+00  1.849178e+01  4.317213e+04  1.118245e+00\n",
       "min    1.000000e+00   1.000000e+00  1.800000e+01  2.590300e+04  0.000000e+00\n",
       "25%    5.157100e+04   4.000000e+00  3.300000e+01  6.811700e+04  1.000000e+00\n",
       "50%    1.026590e+05   1.100000e+01  4.900000e+01  9.729200e+04  2.000000e+00\n",
       "75%    1.544530e+05   1.600000e+01  6.600000e+01  1.288080e+05  3.000000e+00\n",
       "max    2.062090e+05   2.100000e+01  8.100000e+01  5.939010e+05  3.000000e+00"
      ]
     },
     "execution_count": 33,
     "metadata": {},
     "output_type": "execute_result"
    }
   ],
   "source": [
    "sub2.describe()"
   ]
  },
  {
   "cell_type": "markdown",
   "id": "2f3743ab",
   "metadata": {},
   "source": [
    "8) Compare your customer profiles with regions and departments. Can you identify a link between them?\n",
    "\n",
    "The customer profiles showed that families in general bought more and people from southern regions bought more from instacart. This could be because southerns usually have larger families and the convenience of instacart makes 1 part of their day eaiser.  "
   ]
  },
  {
   "cell_type": "code",
   "execution_count": 34,
   "id": "e86947b1",
   "metadata": {},
   "outputs": [],
   "source": [
    "#export file \n",
    "df_fin2.to_pickle(os.path.join(path, '02 Data','Prepared Data', '4.10final.pkl'))"
   ]
  }
 ],
 "metadata": {
  "kernelspec": {
   "display_name": "Python 3 (ipykernel)",
   "language": "python",
   "name": "python3"
  },
  "language_info": {
   "codemirror_mode": {
    "name": "ipython",
    "version": 3
   },
   "file_extension": ".py",
   "mimetype": "text/x-python",
   "name": "python",
   "nbconvert_exporter": "python",
   "pygments_lexer": "ipython3",
   "version": "3.10.9"
  }
 },
 "nbformat": 4,
 "nbformat_minor": 5
}

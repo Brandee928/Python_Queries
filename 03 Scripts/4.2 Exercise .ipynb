{
 "cells": [
  {
   "cell_type": "markdown",
   "id": "f511450b",
   "metadata": {},
   "source": [
    "# Importing Libraries"
   ]
  },
  {
   "cell_type": "code",
   "execution_count": 1,
   "id": "7ba2042f",
   "metadata": {},
   "outputs": [],
   "source": [
    "# Importing Pandas, Numpy, and OS\n",
    "\n",
    "import pandas as pd\n",
    "import numpy as np\n",
    "import os"
   ]
  },
  {
   "cell_type": "markdown",
   "id": "2610abdc",
   "metadata": {},
   "source": [
    "# Python data types"
   ]
  },
  {
   "cell_type": "code",
   "execution_count": 8,
   "id": "eccda098",
   "metadata": {},
   "outputs": [],
   "source": [
    "x = 50"
   ]
  },
  {
   "cell_type": "code",
   "execution_count": 9,
   "id": "f80c8880",
   "metadata": {},
   "outputs": [
    {
     "data": {
      "text/plain": [
       "100"
      ]
     },
     "execution_count": 9,
     "metadata": {},
     "output_type": "execute_result"
    }
   ],
   "source": [
    "x + x"
   ]
  },
  {
   "cell_type": "code",
   "execution_count": 10,
   "id": "a5fc67e7",
   "metadata": {},
   "outputs": [
    {
     "data": {
      "text/plain": [
       "100"
      ]
     },
     "execution_count": 10,
     "metadata": {},
     "output_type": "execute_result"
    }
   ],
   "source": [
    "x + x + x - x"
   ]
  },
  {
   "cell_type": "code",
   "execution_count": 14,
   "id": "9ab6f4ce",
   "metadata": {},
   "outputs": [
    {
     "data": {
      "text/plain": [
       "100"
      ]
     },
     "execution_count": 14,
     "metadata": {},
     "output_type": "execute_result"
    }
   ],
   "source": [
    "x+20+20+10"
   ]
  },
  {
   "cell_type": "code",
   "execution_count": 15,
   "id": "efe9f906",
   "metadata": {},
   "outputs": [],
   "source": [
    "g = 2.5"
   ]
  },
  {
   "cell_type": "code",
   "execution_count": 16,
   "id": "6da32768",
   "metadata": {},
   "outputs": [],
   "source": [
    "h = 10.50"
   ]
  },
  {
   "cell_type": "code",
   "execution_count": 17,
   "id": "2563fb34",
   "metadata": {},
   "outputs": [
    {
     "data": {
      "text/plain": [
       "4.2"
      ]
     },
     "execution_count": 17,
     "metadata": {},
     "output_type": "execute_result"
    }
   ],
   "source": [
    "h/g"
   ]
  },
  {
   "cell_type": "code",
   "execution_count": 31,
   "id": "d57976e4",
   "metadata": {},
   "outputs": [],
   "source": [
    "a = 'Welcome to'"
   ]
  },
  {
   "cell_type": "code",
   "execution_count": 29,
   "id": "cff48604",
   "metadata": {},
   "outputs": [],
   "source": [
    "b = ' my new home'"
   ]
  },
  {
   "cell_type": "code",
   "execution_count": 32,
   "id": "f87a200e",
   "metadata": {},
   "outputs": [
    {
     "data": {
      "text/plain": [
       "'Welcome to my new home'"
      ]
     },
     "execution_count": 32,
     "metadata": {},
     "output_type": "execute_result"
    }
   ],
   "source": [
    "a + b"
   ]
  },
  {
   "cell_type": "code",
   "execution_count": 34,
   "id": "7e19bcbc",
   "metadata": {},
   "outputs": [],
   "source": [
    "i = 'Hi, my name is Brandee. '"
   ]
  },
  {
   "cell_type": "code",
   "execution_count": 35,
   "id": "bb66cc82",
   "metadata": {},
   "outputs": [],
   "source": [
    "j = 'Would you like to be friends?'"
   ]
  },
  {
   "cell_type": "code",
   "execution_count": 36,
   "id": "969834e0",
   "metadata": {},
   "outputs": [
    {
     "data": {
      "text/plain": [
       "'Hi, my name is Brandee. Would you like to be friends?'"
      ]
     },
     "execution_count": 36,
     "metadata": {},
     "output_type": "execute_result"
    }
   ],
   "source": [
    "i + j"
   ]
  },
  {
   "cell_type": "markdown",
   "id": "7fd91eb7",
   "metadata": {},
   "source": [
    "## Bonus Task"
   ]
  },
  {
   "cell_type": "code",
   "execution_count": 37,
   "id": "f83d94bf",
   "metadata": {},
   "outputs": [],
   "source": [
    "k = 'Hello'"
   ]
  },
  {
   "cell_type": "code",
   "execution_count": 38,
   "id": "88d3454e",
   "metadata": {},
   "outputs": [
    {
     "data": {
      "text/plain": [
       "'HelloHelloHelloHelloHelloHelloHelloHelloHelloHelloHelloHelloHelloHelloHelloHelloHelloHelloHelloHelloHelloHelloHelloHelloHelloHelloHelloHelloHelloHelloHelloHelloHelloHelloHelloHelloHelloHelloHelloHelloHelloHelloHelloHelloHelloHelloHelloHelloHelloHelloHelloHelloHelloHelloHelloHelloHelloHelloHelloHelloHelloHelloHelloHelloHelloHelloHelloHelloHelloHelloHelloHelloHelloHelloHelloHelloHelloHelloHelloHelloHelloHelloHelloHelloHelloHelloHelloHelloHelloHelloHelloHelloHelloHelloHelloHelloHelloHelloHelloHello'"
      ]
     },
     "execution_count": 38,
     "metadata": {},
     "output_type": "execute_result"
    }
   ],
   "source": [
    "k * 100"
   ]
  },
  {
   "cell_type": "code",
   "execution_count": null,
   "id": "ca0ad6e8",
   "metadata": {},
   "outputs": [],
   "source": []
  }
 ],
 "metadata": {
  "kernelspec": {
   "display_name": "Python 3 (ipykernel)",
   "language": "python",
   "name": "python3"
  },
  "language_info": {
   "codemirror_mode": {
    "name": "ipython",
    "version": 3
   },
   "file_extension": ".py",
   "mimetype": "text/x-python",
   "name": "python",
   "nbconvert_exporter": "python",
   "pygments_lexer": "ipython3",
   "version": "3.10.9"
  }
 },
 "nbformat": 4,
 "nbformat_minor": 5
}
